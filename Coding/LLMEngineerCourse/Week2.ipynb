{
 "cells": [
  {
   "cell_type": "code",
   "execution_count": 1,
   "metadata": {},
   "outputs": [],
   "source": [
    "import os\n",
    "import requests\n",
    "from bs4 import BeautifulSoup\n",
    "from IPython.display import Markdown, display\n",
    "import ollama\n",
    "import gradio as gr # oh yeah!"
   ]
  },
  {
   "cell_type": "code",
   "execution_count": 2,
   "metadata": {},
   "outputs": [],
   "source": [
    "system_prompt = \"You are an assistant that analyzes the code from the security view \\\n",
    "and provides a short summary of its vulnerabilities, also provide short summary of the impact of the potential vulnerabilities \\\n",
    "Respond in markdown.\""
   ]
  },
  {
   "cell_type": "code",
   "execution_count": 8,
   "metadata": {},
   "outputs": [],
   "source": [
    "# See how this function creates exactly the format above\n",
    "def messages_for(user_prompt, system_prompt):\n",
    "    return [\n",
    "        {\"role\": \"system\", \"content\": system_prompt},\n",
    "        {\"role\": \"user\", \"content\": user_prompt}\n",
    "    ]"
   ]
  },
  {
   "cell_type": "code",
   "execution_count": 31,
   "metadata": {},
   "outputs": [],
   "source": [
    "# OLLAMA_API = \"http://localhost:11434/api/chat\"\n",
    "HEADERS = {\"Content-Type\": \"application/json\"}\n",
    "MODEL = \"llama3.2\"\n",
    "# MODEL = \"codellama\""
   ]
  },
  {
   "cell_type": "code",
   "execution_count": 32,
   "metadata": {},
   "outputs": [],
   "source": [
    "def stream_codellama(prompt):\n",
    "    system_prompt = \"You are an assistant that analyzes the code from the security view \\\n",
    "    and provides a short summary of its vulnerabilities, also provide short summary of the impact of the potential vulnerabilities \\\n",
    "    Respond in markdown.\"\n",
    "    result = ollama.chat(model=MODEL, messages=messages_for(prompt, system_prompt))\n",
    "    return result['message']['content']\n",
    "    # response = \"\"\n",
    "    # with result as stream:\n",
    "    #     for text in stream['message']['content']:\n",
    "    #         response += text or \"\"\n",
    "    #         yield response"
   ]
  },
  {
   "cell_type": "code",
   "execution_count": 14,
   "metadata": {},
   "outputs": [],
   "source": [
    "def test(a, b):\n",
    "    print(\"sika sarimax bargaraar ast!\")"
   ]
  },
  {
   "cell_type": "code",
   "execution_count": 33,
   "metadata": {},
   "outputs": [
    {
     "name": "stdout",
     "output_type": "stream",
     "text": [
      "* Running on local URL:  http://127.0.0.1:7870\n",
      "\n",
      "To create a public link, set `share=True` in `launch()`.\n"
     ]
    },
    {
     "data": {
      "text/html": [
       "<div><iframe src=\"http://127.0.0.1:7870/\" width=\"100%\" height=\"500\" allow=\"autoplay; camera; microphone; clipboard-read; clipboard-write;\" frameborder=\"0\" allowfullscreen></iframe></div>"
      ],
      "text/plain": [
       "<IPython.core.display.HTML object>"
      ]
     },
     "metadata": {},
     "output_type": "display_data"
    },
    {
     "data": {
      "text/plain": []
     },
     "execution_count": 33,
     "metadata": {},
     "output_type": "execute_result"
    }
   ],
   "source": [
    "view = gr.Interface(\n",
    "    fn=stream_codellama,\n",
    "    # fn = test,\n",
    "    inputs=[gr.Textbox(label=\"Your message:\")],\n",
    "    outputs=[gr.Markdown(label=\"Response:\")],\n",
    "    flagging_mode=\"never\"\n",
    ")\n",
    "view.launch()"
   ]
  },
  {
   "cell_type": "code",
   "execution_count": 19,
   "metadata": {},
   "outputs": [
    {
     "data": {
      "text/plain": [
       "\"**Security Analysis**\\n======================\\n\\n### Potential Vulnerabilities\\n\\n#### 1. SQL Injection\\nThe `username` parameter is directly inserted into the SQL query without any validation or sanitization, making it vulnerable to SQL injection attacks. An attacker could manipulate the input to execute malicious SQL code.\\n\\n#### 2. Lack of Input Validation\\nThe function does not validate whether the provided `username` exists in the database or if it's a valid string. This could lead to errors or unexpected behavior when trying to query the database.\\n\\n### Impact\\n\\n*   **SQL Injection Attacks**: An attacker could potentially inject malicious SQL code, allowing them to access sensitive data, modify database records, or even execute system-level commands.\\n*   **Data Exposure**: If an attacker gains control of the database, they could retrieve sensitive user data, such as passwords or credit card numbers.\\n\\n### Recommendations\\n\\n*   Use parameterized queries or prepared statements to separate the SQL code from the input parameters.\\n*   Validate and sanitize user input using whitelisting techniques or libraries that handle this for you.\\n*   Implement robust error handling mechanisms to detect and mitigate potential security issues.\""
      ]
     },
     "execution_count": 19,
     "metadata": {},
     "output_type": "execute_result"
    }
   ],
   "source": [
    "prompt = \"\"\"def get_user_data(username):\n",
    "    query = f\"SELECT * FROM users WHERE username = '{username}'\"\n",
    "    cursor.execute(query)\"\"\"\n",
    "stream_codellama(prompt=prompt)"
   ]
  },
  {
   "cell_type": "code",
   "execution_count": null,
   "metadata": {},
   "outputs": [],
   "source": []
  }
 ],
 "metadata": {
  "kernelspec": {
   "display_name": "llms",
   "language": "python",
   "name": "python3"
  },
  "language_info": {
   "codemirror_mode": {
    "name": "ipython",
    "version": 3
   },
   "file_extension": ".py",
   "mimetype": "text/x-python",
   "name": "python",
   "nbconvert_exporter": "python",
   "pygments_lexer": "ipython3",
   "version": "3.11.11"
  }
 },
 "nbformat": 4,
 "nbformat_minor": 2
}
